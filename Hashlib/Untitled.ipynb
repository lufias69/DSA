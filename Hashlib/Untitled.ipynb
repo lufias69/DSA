{
 "cells": [
  {
   "cell_type": "code",
   "execution_count": 2,
   "metadata": {},
   "outputs": [],
   "source": [
    "import hashlib as hslib"
   ]
  },
  {
   "cell_type": "code",
   "execution_count": 6,
   "metadata": {},
   "outputs": [
    {
     "data": {
      "text/plain": [
       "136"
      ]
     },
     "execution_count": 6,
     "metadata": {},
     "output_type": "execute_result"
    }
   ],
   "source": [
    "#https://docs.python.org/3/library/hashlib.html\n",
    "\"\"\"New in version 3.6: SHA3 (Keccak) and SHAKE constructors sha3_224(), \n",
    "    sha3_256(), sha3_384(), sha3_512(), shake_128(), shake_256().\n",
    "    \"\"\"\n",
    "\n",
    "m = hslib.sha3_256()\n",
    "m.update(b\"100000\")\n",
    "m.digest()\n",
    "\n",
    "m.digest_size\n",
    "\n",
    "m.block_size"
   ]
  },
  {
   "cell_type": "code",
   "execution_count": 15,
   "metadata": {},
   "outputs": [
    {
     "data": {
      "text/plain": [
       "'5274bff7d3b6c81af1eb078437c6362f80847762f651a58e77c33bcd'"
      ]
     },
     "execution_count": 15,
     "metadata": {},
     "output_type": "execute_result"
    }
   ],
   "source": [
    "hslib.sha224(b\"komenar\").hexdigest()"
   ]
  },
  {
   "cell_type": "code",
   "execution_count": null,
   "metadata": {},
   "outputs": [],
   "source": [
    "p = 10\n",
    "\n",
    "def q_variabel(p):\n",
    "    p=p-1\n",
    "    if p< 2"
   ]
  }
 ],
 "metadata": {
  "kernelspec": {
   "display_name": "Python 3",
   "language": "python",
   "name": "python3"
  },
  "language_info": {
   "codemirror_mode": {
    "name": "ipython",
    "version": 3
   },
   "file_extension": ".py",
   "mimetype": "text/x-python",
   "name": "python",
   "nbconvert_exporter": "python",
   "pygments_lexer": "ipython3",
   "version": "3.7.2"
  }
 },
 "nbformat": 4,
 "nbformat_minor": 2
}
